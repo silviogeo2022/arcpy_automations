{
 "cells": [
  {
   "cell_type": "code",
   "execution_count": 1,
   "metadata": {},
   "outputs": [],
   "source": [
    "#Export Maps"
   ]
  },
  {
   "cell_type": "code",
   "execution_count": 4,
   "metadata": {},
   "outputs": [],
   "source": [
    "import arcpy\n",
    "import os\n",
    "from arcpy import env\n",
    "\n",
    "# Permitir sobrescrever arquivos de saída\n",
    "env.overwriteOutput = True\n",
    "\n",
    "# Caminho do workspace\n",
    "path = r'C:\\Users\\Lucas Lemos\\D\\SL_PYHON_GIS\\10_UDM2_MAP_AUTOMATE\\Data'\n",
    "arcpy.env.workspace = path\n",
    "\n",
    "# Lista de cidades\n",
    "lista_cidades = [\"Tomé-Açu\",\"Mãe do Rio\",\"Acará\", \"Irituia\"]  # adicione mais cidades conforme necessário\n",
    "\n",
    "# Projeto atual\n",
    "aprx = arcpy.mp.ArcGISProject(\"CURRENT\")\n",
    "\n",
    "# Mapa, camada e layout\n",
    "mapx = aprx.listMaps(\"Map\")[0]\n",
    "lyr = mapx.listLayers(\"Cidades\")[0]\n",
    "lyt = aprx.listLayouts(\"Mapa\")[0]\n",
    "mf = lyt.listElements('MAPFRAME_ELEMENT', \"Map Frame\")[0]\n",
    "\n",
    "# Caminho da pasta de saída\n",
    "saida_pdf = r'C:\\Users\\Lucas Lemos\\D\\SL_PYHON_GIS\\10_UDM2_MAP_AUTOMATE\\Mapas'\n",
    "\n",
    "# Loop pelas cidades\n",
    "for cityName in lista_cidades:\n",
    "    # Aplicar filtro na camada\n",
    "    lyr.definitionQuery = f\"NM_MUN = '{cityName}'\"\n",
    "\n",
    "    # Ajustar a câmera para o município\n",
    "    mf.camera.setExtent(mf.getLayerExtent(lyr))\n",
    "    mf.camera.scale = mf.camera.scale * 1.4\n",
    "\n",
    "    # Atualizar o título\n",
    "    title = lyt.listElements('TEXT_ELEMENT', \"Title\")[0]\n",
    "    title.text = f'Mapa de Localização de {cityName} - PA'\n",
    "\n",
    "    # Nome do arquivo de saída\n",
    "    nome_arquivo = f'{title.text}.pdf'\n",
    "    caminho_pdf = os.path.join(saida_pdf, nome_arquivo)\n",
    "\n",
    "    # Exportar para PDF\n",
    "    lyt.exportToPDF(caminho_pdf)\n",
    "\n",
    "    # (Opcional) Abrir o PDF automaticamente\n",
    "    os.startfile(caminho_pdf)\n",
    "\n",
    "# Resetar o filtro da camada (opcional)\n",
    "lyr.definitionQuery = \"\"\n"
   ]
  },
  {
   "cell_type": "code",
   "execution_count": 2,
   "metadata": {},
   "outputs": [],
   "source": [
    "#TESTE"
   ]
  },
  {
   "cell_type": "code",
   "execution_count": null,
   "metadata": {},
   "outputs": [],
   "source": []
  },
  {
   "cell_type": "code",
   "execution_count": null,
   "metadata": {},
   "outputs": [],
   "source": []
  },
  {
   "cell_type": "code",
   "execution_count": null,
   "metadata": {},
   "outputs": [],
   "source": []
  },
  {
   "cell_type": "code",
   "execution_count": null,
   "metadata": {},
   "outputs": [],
   "source": []
  },
  {
   "cell_type": "code",
   "execution_count": null,
   "metadata": {},
   "outputs": [],
   "source": []
  },
  {
   "cell_type": "code",
   "execution_count": null,
   "metadata": {},
   "outputs": [],
   "source": []
  }
 ],
 "metadata": {
  "kernelspec": {
   "display_name": "ArcGISPro",
   "language": "python",
   "name": "python3"
  },
  "language_info": {
   "file_extension": ".py",
   "mimetype": "text/x-python",
   "name": "python",
   "version": "3.11.10"
  }
 },
 "nbformat": 4,
 "nbformat_minor": 4
}
